{
 "cells": [
  {
   "cell_type": "code",
   "execution_count": 1,
   "metadata": {},
   "outputs": [],
   "source": [
    "from scipy.stats import chi2_contingency"
   ]
  },
  {
   "cell_type": "code",
   "execution_count": null,
   "metadata": {},
   "outputs": [],
   "source": [
    "#null hypothesis for applications: the introduction of fitness tests will not lead to an increase in conversion rates of \n",
    "#applications"
   ]
  },
  {
   "cell_type": "code",
   "execution_count": 4,
   "metadata": {},
   "outputs": [],
   "source": [
    "#calculating chi-squared for people who filled in an application from at MuscleHub in groups A and B - prior analysis done\n",
    "#in SQL and data are taken from there\n",
    "application_contingency_table =  [[250, 2259],\n",
    "                                 [325, 2172]]\n",
    "\n",
    "_, pval, _, _ = chi2_contingency(application_contingency_table)"
   ]
  },
  {
   "cell_type": "code",
   "execution_count": 5,
   "metadata": {},
   "outputs": [
    {
     "name": "stdout",
     "output_type": "stream",
     "text": [
      "0.0008340323282603952\n"
     ]
    }
   ],
   "source": [
    "#p value is less than 0.05 indictating the result is significant and unlikely to be due to chance. But it was Group B that\n",
    "#filled in more applications so we fail to reject the null hypothesis\n",
    "print(pval)"
   ]
  },
  {
   "cell_type": "code",
   "execution_count": 6,
   "metadata": {},
   "outputs": [],
   "source": [
    "#null hypothesis for purchases: the introduction of fitness tests will not lead to an increase in conversion rates of \n",
    "#purchases"
   ]
  },
  {
   "cell_type": "code",
   "execution_count": 13,
   "metadata": {},
   "outputs": [],
   "source": [
    "#calculating chi-squared for people who purchased a membership from MuscleHub in groups A and B - prior analysis done\n",
    "#in SQL and data are taken from there\n",
    "purchase_contingency_table = [[200, 2309],\n",
    "                             [250, 2247]]\n",
    "\n",
    "_, pval2, _, _ = chi2_contingency(purchase_contingency_table)"
   ]
  },
  {
   "cell_type": "code",
   "execution_count": 14,
   "metadata": {},
   "outputs": [
    {
     "name": "stdout",
     "output_type": "stream",
     "text": [
      "0.013339261893301502\n"
     ]
    }
   ],
   "source": [
    "#p value is less than 0.05 indictating the result is significant and unlikely to be due to chance. But it was Group B that\n",
    "#bought more memberships so we fail to reject the null hypothesis\n",
    "print(pval2)"
   ]
  },
  {
   "cell_type": "code",
   "execution_count": null,
   "metadata": {},
   "outputs": [],
   "source": []
  }
 ],
 "metadata": {
  "kernelspec": {
   "display_name": "Python 3",
   "language": "python",
   "name": "python3"
  },
  "language_info": {
   "codemirror_mode": {
    "name": "ipython",
    "version": 3
   },
   "file_extension": ".py",
   "mimetype": "text/x-python",
   "name": "python",
   "nbconvert_exporter": "python",
   "pygments_lexer": "ipython3",
   "version": "3.6.9"
  }
 },
 "nbformat": 4,
 "nbformat_minor": 4
}
